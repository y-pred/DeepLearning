{
  "nbformat": 4,
  "nbformat_minor": 0,
  "metadata": {
    "colab": {
      "provenance": [],
      "gpuType": "T4"
    },
    "kernelspec": {
      "name": "python3",
      "display_name": "Python 3"
    },
    "language_info": {
      "name": "python"
    },
    "accelerator": "GPU"
  },
  "cells": [
    {
      "cell_type": "markdown",
      "source": [
        "Dataset link: https://www.kaggle.com/datasets/abhinavmoudgil95/short-jokes/data"
      ],
      "metadata": {
        "id": "83gurMRlHULG"
      }
    },
    {
      "cell_type": "code",
      "execution_count": 4,
      "metadata": {
        "id": "0fmDamm_-_p-"
      },
      "outputs": [],
      "source": [
        "!mkdir -p ~/.kaggle\n",
        "!cp kaggle.json ~/.kaggle/"
      ]
    },
    {
      "cell_type": "code",
      "source": [
        "!kaggle datasets download -d abhinavmoudgil95/short-jokes"
      ],
      "metadata": {
        "colab": {
          "base_uri": "https://localhost:8080/"
        },
        "id": "BMQXBv45_SQM",
        "outputId": "6b750636-46d5-40ed-df52-914f483598bc"
      },
      "execution_count": 5,
      "outputs": [
        {
          "output_type": "stream",
          "name": "stdout",
          "text": [
            "Warning: Your Kaggle API key is readable by other users on this system! To fix this, you can run 'chmod 600 /root/.kaggle/kaggle.json'\n",
            "Downloading short-jokes.zip to /content\n",
            " 71% 7.00M/9.82M [00:00<00:00, 13.5MB/s]\n",
            "100% 9.82M/9.82M [00:00<00:00, 12.3MB/s]\n"
          ]
        }
      ]
    },
    {
      "cell_type": "code",
      "source": [
        "import zipfile\n",
        "zip_ref = zipfile.ZipFile('/content/short-jokes.zip', 'r')\n",
        "zip_ref.extractall('/content')\n",
        "zip_ref.close()"
      ],
      "metadata": {
        "id": "lrMPEyDV_VXI"
      },
      "execution_count": 6,
      "outputs": []
    },
    {
      "cell_type": "code",
      "source": [
        "import pandas as pd\n",
        "jokes_df = pd.read_csv('/content/shortjokes.csv')"
      ],
      "metadata": {
        "id": "tFW4H7Vi_asI"
      },
      "execution_count": 7,
      "outputs": []
    },
    {
      "cell_type": "code",
      "source": [
        "jokes_df.head()"
      ],
      "metadata": {
        "colab": {
          "base_uri": "https://localhost:8080/",
          "height": 206
        },
        "id": "uKjJ3WNp2xaE",
        "outputId": "bfd093d5-daf1-4de2-f1c0-3338f853c9a6"
      },
      "execution_count": 8,
      "outputs": [
        {
          "output_type": "execute_result",
          "data": {
            "text/plain": [
              "   ID                                               Joke\n",
              "0   1  [me narrating a documentary about narrators] \"...\n",
              "1   2  Telling my daughter garlic is good for you. Go...\n",
              "2   3  I've been going through a really rough period ...\n",
              "3   4  If I could have dinner with anyone, dead or al...\n",
              "4   5     Two guys walk into a bar. The third guy ducks."
            ],
            "text/html": [
              "\n",
              "  <div id=\"df-3e99f756-838a-4c67-843d-5f8423bbedd1\" class=\"colab-df-container\">\n",
              "    <div>\n",
              "<style scoped>\n",
              "    .dataframe tbody tr th:only-of-type {\n",
              "        vertical-align: middle;\n",
              "    }\n",
              "\n",
              "    .dataframe tbody tr th {\n",
              "        vertical-align: top;\n",
              "    }\n",
              "\n",
              "    .dataframe thead th {\n",
              "        text-align: right;\n",
              "    }\n",
              "</style>\n",
              "<table border=\"1\" class=\"dataframe\">\n",
              "  <thead>\n",
              "    <tr style=\"text-align: right;\">\n",
              "      <th></th>\n",
              "      <th>ID</th>\n",
              "      <th>Joke</th>\n",
              "    </tr>\n",
              "  </thead>\n",
              "  <tbody>\n",
              "    <tr>\n",
              "      <th>0</th>\n",
              "      <td>1</td>\n",
              "      <td>[me narrating a documentary about narrators] \"...</td>\n",
              "    </tr>\n",
              "    <tr>\n",
              "      <th>1</th>\n",
              "      <td>2</td>\n",
              "      <td>Telling my daughter garlic is good for you. Go...</td>\n",
              "    </tr>\n",
              "    <tr>\n",
              "      <th>2</th>\n",
              "      <td>3</td>\n",
              "      <td>I've been going through a really rough period ...</td>\n",
              "    </tr>\n",
              "    <tr>\n",
              "      <th>3</th>\n",
              "      <td>4</td>\n",
              "      <td>If I could have dinner with anyone, dead or al...</td>\n",
              "    </tr>\n",
              "    <tr>\n",
              "      <th>4</th>\n",
              "      <td>5</td>\n",
              "      <td>Two guys walk into a bar. The third guy ducks.</td>\n",
              "    </tr>\n",
              "  </tbody>\n",
              "</table>\n",
              "</div>\n",
              "    <div class=\"colab-df-buttons\">\n",
              "\n",
              "  <div class=\"colab-df-container\">\n",
              "    <button class=\"colab-df-convert\" onclick=\"convertToInteractive('df-3e99f756-838a-4c67-843d-5f8423bbedd1')\"\n",
              "            title=\"Convert this dataframe to an interactive table.\"\n",
              "            style=\"display:none;\">\n",
              "\n",
              "  <svg xmlns=\"http://www.w3.org/2000/svg\" height=\"24px\" viewBox=\"0 -960 960 960\">\n",
              "    <path d=\"M120-120v-720h720v720H120Zm60-500h600v-160H180v160Zm220 220h160v-160H400v160Zm0 220h160v-160H400v160ZM180-400h160v-160H180v160Zm440 0h160v-160H620v160ZM180-180h160v-160H180v160Zm440 0h160v-160H620v160Z\"/>\n",
              "  </svg>\n",
              "    </button>\n",
              "\n",
              "  <style>\n",
              "    .colab-df-container {\n",
              "      display:flex;\n",
              "      gap: 12px;\n",
              "    }\n",
              "\n",
              "    .colab-df-convert {\n",
              "      background-color: #E8F0FE;\n",
              "      border: none;\n",
              "      border-radius: 50%;\n",
              "      cursor: pointer;\n",
              "      display: none;\n",
              "      fill: #1967D2;\n",
              "      height: 32px;\n",
              "      padding: 0 0 0 0;\n",
              "      width: 32px;\n",
              "    }\n",
              "\n",
              "    .colab-df-convert:hover {\n",
              "      background-color: #E2EBFA;\n",
              "      box-shadow: 0px 1px 2px rgba(60, 64, 67, 0.3), 0px 1px 3px 1px rgba(60, 64, 67, 0.15);\n",
              "      fill: #174EA6;\n",
              "    }\n",
              "\n",
              "    .colab-df-buttons div {\n",
              "      margin-bottom: 4px;\n",
              "    }\n",
              "\n",
              "    [theme=dark] .colab-df-convert {\n",
              "      background-color: #3B4455;\n",
              "      fill: #D2E3FC;\n",
              "    }\n",
              "\n",
              "    [theme=dark] .colab-df-convert:hover {\n",
              "      background-color: #434B5C;\n",
              "      box-shadow: 0px 1px 3px 1px rgba(0, 0, 0, 0.15);\n",
              "      filter: drop-shadow(0px 1px 2px rgba(0, 0, 0, 0.3));\n",
              "      fill: #FFFFFF;\n",
              "    }\n",
              "  </style>\n",
              "\n",
              "    <script>\n",
              "      const buttonEl =\n",
              "        document.querySelector('#df-3e99f756-838a-4c67-843d-5f8423bbedd1 button.colab-df-convert');\n",
              "      buttonEl.style.display =\n",
              "        google.colab.kernel.accessAllowed ? 'block' : 'none';\n",
              "\n",
              "      async function convertToInteractive(key) {\n",
              "        const element = document.querySelector('#df-3e99f756-838a-4c67-843d-5f8423bbedd1');\n",
              "        const dataTable =\n",
              "          await google.colab.kernel.invokeFunction('convertToInteractive',\n",
              "                                                    [key], {});\n",
              "        if (!dataTable) return;\n",
              "\n",
              "        const docLinkHtml = 'Like what you see? Visit the ' +\n",
              "          '<a target=\"_blank\" href=https://colab.research.google.com/notebooks/data_table.ipynb>data table notebook</a>'\n",
              "          + ' to learn more about interactive tables.';\n",
              "        element.innerHTML = '';\n",
              "        dataTable['output_type'] = 'display_data';\n",
              "        await google.colab.output.renderOutput(dataTable, element);\n",
              "        const docLink = document.createElement('div');\n",
              "        docLink.innerHTML = docLinkHtml;\n",
              "        element.appendChild(docLink);\n",
              "      }\n",
              "    </script>\n",
              "  </div>\n",
              "\n",
              "\n",
              "<div id=\"df-f4a766b2-6ccf-4bd6-bc0f-45a55aa44abf\">\n",
              "  <button class=\"colab-df-quickchart\" onclick=\"quickchart('df-f4a766b2-6ccf-4bd6-bc0f-45a55aa44abf')\"\n",
              "            title=\"Suggest charts\"\n",
              "            style=\"display:none;\">\n",
              "\n",
              "<svg xmlns=\"http://www.w3.org/2000/svg\" height=\"24px\"viewBox=\"0 0 24 24\"\n",
              "     width=\"24px\">\n",
              "    <g>\n",
              "        <path d=\"M19 3H5c-1.1 0-2 .9-2 2v14c0 1.1.9 2 2 2h14c1.1 0 2-.9 2-2V5c0-1.1-.9-2-2-2zM9 17H7v-7h2v7zm4 0h-2V7h2v10zm4 0h-2v-4h2v4z\"/>\n",
              "    </g>\n",
              "</svg>\n",
              "  </button>\n",
              "\n",
              "<style>\n",
              "  .colab-df-quickchart {\n",
              "      --bg-color: #E8F0FE;\n",
              "      --fill-color: #1967D2;\n",
              "      --hover-bg-color: #E2EBFA;\n",
              "      --hover-fill-color: #174EA6;\n",
              "      --disabled-fill-color: #AAA;\n",
              "      --disabled-bg-color: #DDD;\n",
              "  }\n",
              "\n",
              "  [theme=dark] .colab-df-quickchart {\n",
              "      --bg-color: #3B4455;\n",
              "      --fill-color: #D2E3FC;\n",
              "      --hover-bg-color: #434B5C;\n",
              "      --hover-fill-color: #FFFFFF;\n",
              "      --disabled-bg-color: #3B4455;\n",
              "      --disabled-fill-color: #666;\n",
              "  }\n",
              "\n",
              "  .colab-df-quickchart {\n",
              "    background-color: var(--bg-color);\n",
              "    border: none;\n",
              "    border-radius: 50%;\n",
              "    cursor: pointer;\n",
              "    display: none;\n",
              "    fill: var(--fill-color);\n",
              "    height: 32px;\n",
              "    padding: 0;\n",
              "    width: 32px;\n",
              "  }\n",
              "\n",
              "  .colab-df-quickchart:hover {\n",
              "    background-color: var(--hover-bg-color);\n",
              "    box-shadow: 0 1px 2px rgba(60, 64, 67, 0.3), 0 1px 3px 1px rgba(60, 64, 67, 0.15);\n",
              "    fill: var(--button-hover-fill-color);\n",
              "  }\n",
              "\n",
              "  .colab-df-quickchart-complete:disabled,\n",
              "  .colab-df-quickchart-complete:disabled:hover {\n",
              "    background-color: var(--disabled-bg-color);\n",
              "    fill: var(--disabled-fill-color);\n",
              "    box-shadow: none;\n",
              "  }\n",
              "\n",
              "  .colab-df-spinner {\n",
              "    border: 2px solid var(--fill-color);\n",
              "    border-color: transparent;\n",
              "    border-bottom-color: var(--fill-color);\n",
              "    animation:\n",
              "      spin 1s steps(1) infinite;\n",
              "  }\n",
              "\n",
              "  @keyframes spin {\n",
              "    0% {\n",
              "      border-color: transparent;\n",
              "      border-bottom-color: var(--fill-color);\n",
              "      border-left-color: var(--fill-color);\n",
              "    }\n",
              "    20% {\n",
              "      border-color: transparent;\n",
              "      border-left-color: var(--fill-color);\n",
              "      border-top-color: var(--fill-color);\n",
              "    }\n",
              "    30% {\n",
              "      border-color: transparent;\n",
              "      border-left-color: var(--fill-color);\n",
              "      border-top-color: var(--fill-color);\n",
              "      border-right-color: var(--fill-color);\n",
              "    }\n",
              "    40% {\n",
              "      border-color: transparent;\n",
              "      border-right-color: var(--fill-color);\n",
              "      border-top-color: var(--fill-color);\n",
              "    }\n",
              "    60% {\n",
              "      border-color: transparent;\n",
              "      border-right-color: var(--fill-color);\n",
              "    }\n",
              "    80% {\n",
              "      border-color: transparent;\n",
              "      border-right-color: var(--fill-color);\n",
              "      border-bottom-color: var(--fill-color);\n",
              "    }\n",
              "    90% {\n",
              "      border-color: transparent;\n",
              "      border-bottom-color: var(--fill-color);\n",
              "    }\n",
              "  }\n",
              "</style>\n",
              "\n",
              "  <script>\n",
              "    async function quickchart(key) {\n",
              "      const quickchartButtonEl =\n",
              "        document.querySelector('#' + key + ' button');\n",
              "      quickchartButtonEl.disabled = true;  // To prevent multiple clicks.\n",
              "      quickchartButtonEl.classList.add('colab-df-spinner');\n",
              "      try {\n",
              "        const charts = await google.colab.kernel.invokeFunction(\n",
              "            'suggestCharts', [key], {});\n",
              "      } catch (error) {\n",
              "        console.error('Error during call to suggestCharts:', error);\n",
              "      }\n",
              "      quickchartButtonEl.classList.remove('colab-df-spinner');\n",
              "      quickchartButtonEl.classList.add('colab-df-quickchart-complete');\n",
              "    }\n",
              "    (() => {\n",
              "      let quickchartButtonEl =\n",
              "        document.querySelector('#df-f4a766b2-6ccf-4bd6-bc0f-45a55aa44abf button');\n",
              "      quickchartButtonEl.style.display =\n",
              "        google.colab.kernel.accessAllowed ? 'block' : 'none';\n",
              "    })();\n",
              "  </script>\n",
              "</div>\n",
              "\n",
              "    </div>\n",
              "  </div>\n"
            ]
          },
          "metadata": {},
          "execution_count": 8
        }
      ]
    },
    {
      "cell_type": "code",
      "source": [
        "jokes_df.shape"
      ],
      "metadata": {
        "colab": {
          "base_uri": "https://localhost:8080/"
        },
        "id": "E9vcsVEg9CT4",
        "outputId": "b158d571-db36-497d-fdc0-320ccf98f754"
      },
      "execution_count": 9,
      "outputs": [
        {
          "output_type": "execute_result",
          "data": {
            "text/plain": [
              "(231657, 2)"
            ]
          },
          "metadata": {},
          "execution_count": 9
        }
      ]
    },
    {
      "cell_type": "code",
      "source": [
        "# Extract jokes text\n",
        "jokes = jokes_df['Joke'].head(5000).values"
      ],
      "metadata": {
        "id": "vPU1nwzw22-l"
      },
      "execution_count": 10,
      "outputs": []
    },
    {
      "cell_type": "code",
      "source": [
        "print(jokes)"
      ],
      "metadata": {
        "colab": {
          "base_uri": "https://localhost:8080/"
        },
        "id": "Z-iiM6w026wk",
        "outputId": "04ab1f40-5612-45b4-8691-3c596a2cecd4"
      },
      "execution_count": 11,
      "outputs": [
        {
          "output_type": "stream",
          "name": "stdout",
          "text": [
            "['[me narrating a documentary about narrators] \"I can\\'t hear what they\\'re saying cuz I\\'m talking\"'\n",
            " 'Telling my daughter garlic is good for you. Good immune system and keeps pests away.Ticks, mosquitos, vampires... men.'\n",
            " \"I've been going through a really rough period at work this week It's my own fault for swapping my tampax for sand paper.\"\n",
            " ... 'Sucks that these Crest strips only come in white'\n",
            " \"I don't like Jewish jokes. Anne Frankly I won't stand them.\"\n",
            " 'I like my cigarettes like my Instagram. \\\\#nofilter Edit: learned formatting']\n"
          ]
        }
      ]
    },
    {
      "cell_type": "code",
      "source": [
        "import tensorflow as tf\n",
        "from tensorflow.keras.preprocessing.text import Tokenizer\n",
        "\n",
        "#Tokenize the text\n",
        "tokenizer = Tokenizer()\n",
        "tokenizer.fit_on_texts(jokes)\n"
      ],
      "metadata": {
        "id": "GH2gbdZg3IUk"
      },
      "execution_count": 12,
      "outputs": []
    },
    {
      "cell_type": "code",
      "source": [
        "total_words = len(tokenizer.word_index)+1\n",
        "total_words"
      ],
      "metadata": {
        "colab": {
          "base_uri": "https://localhost:8080/"
        },
        "id": "WGOZrK643mmA",
        "outputId": "a9a46981-2e3c-4935-97c9-769175013f38"
      },
      "execution_count": 13,
      "outputs": [
        {
          "output_type": "execute_result",
          "data": {
            "text/plain": [
              "10501"
            ]
          },
          "metadata": {},
          "execution_count": 13
        }
      ]
    },
    {
      "cell_type": "markdown",
      "source": [
        "The texts_to_sequences method of the Keras Tokenizer class is used to convert a list of texts (sentences or phrases) into sequences of integers. Each word in the text is assigned a unique integer based on the vocabulary learned by the tokenizer during the fitting process."
      ],
      "metadata": {
        "id": "M5q70XfU4S64"
      }
    },
    {
      "cell_type": "code",
      "source": [
        "#Create input sequences and labels\n",
        "input_sequence = []\n",
        "for joke in jokes:\n",
        "  token_list = tokenizer.texts_to_sequences([joke])[0]\n",
        "  for i in range (1,len(token_list)):\n",
        "    n_gram = token_list[:i+1]\n",
        "    input_sequence.append(n_gram)"
      ],
      "metadata": {
        "id": "c3X2JTLe3snc"
      },
      "execution_count": 14,
      "outputs": []
    },
    {
      "cell_type": "code",
      "source": [
        "max_sequence_length = max([len(i) for i in input_sequence])\n",
        "max_sequence_length"
      ],
      "metadata": {
        "colab": {
          "base_uri": "https://localhost:8080/"
        },
        "id": "S1F8GJih7mmE",
        "outputId": "b6b3c72a-4635-433a-9259-0545350591de"
      },
      "execution_count": 15,
      "outputs": [
        {
          "output_type": "execute_result",
          "data": {
            "text/plain": [
              "43"
            ]
          },
          "metadata": {},
          "execution_count": 15
        }
      ]
    },
    {
      "cell_type": "code",
      "source": [
        "#padding of input sequence to max length\n",
        "from tensorflow.keras.preprocessing.sequence import pad_sequences\n",
        "\n",
        "padded_input_sequence = pad_sequences(input_sequence, maxlen = max_sequence_length, padding='pre')"
      ],
      "metadata": {
        "id": "sfn_57Qc70Zc"
      },
      "execution_count": 16,
      "outputs": []
    },
    {
      "cell_type": "code",
      "source": [
        "X = padded_input_sequence[:,:-1]\n",
        "y = padded_input_sequence[:,-1]"
      ],
      "metadata": {
        "id": "JuqrIeQH8PqM"
      },
      "execution_count": 17,
      "outputs": []
    },
    {
      "cell_type": "code",
      "source": [
        "X.shape"
      ],
      "metadata": {
        "colab": {
          "base_uri": "https://localhost:8080/"
        },
        "id": "UsNLQ46A8jsO",
        "outputId": "5431a633-3a3d-43f1-fcdf-d51f9f6b446b"
      },
      "execution_count": 18,
      "outputs": [
        {
          "output_type": "execute_result",
          "data": {
            "text/plain": [
              "(82904, 42)"
            ]
          },
          "metadata": {},
          "execution_count": 18
        }
      ]
    },
    {
      "cell_type": "code",
      "source": [
        "y.shape"
      ],
      "metadata": {
        "colab": {
          "base_uri": "https://localhost:8080/"
        },
        "id": "JoaNw8es8lq8",
        "outputId": "ae58e186-75cf-4304-c4fe-664fc4b26149"
      },
      "execution_count": 19,
      "outputs": [
        {
          "output_type": "execute_result",
          "data": {
            "text/plain": [
              "(82904,)"
            ]
          },
          "metadata": {},
          "execution_count": 19
        }
      ]
    },
    {
      "cell_type": "code",
      "source": [
        "from tensorflow.keras.utils import to_categorical\n",
        "y = to_categorical(y,num_classes=total_words)"
      ],
      "metadata": {
        "id": "JVsnHVtI8pUV"
      },
      "execution_count": 20,
      "outputs": []
    },
    {
      "cell_type": "code",
      "source": [
        "#Build LSTM model\n",
        "\n",
        "from keras import Sequential\n",
        "from keras.layers import Dense, Embedding, LSTM\n",
        "\n",
        "model = Sequential()\n",
        "model.add(Embedding(total_words,100,input_length=max_sequence_length-1))\n",
        "model.add(LSTM(150))\n",
        "model.add(Dense(total_words,activation='softmax'))"
      ],
      "metadata": {
        "id": "ocTj2Lgy9qCm"
      },
      "execution_count": 21,
      "outputs": []
    },
    {
      "cell_type": "code",
      "source": [
        "# Compile the model\n",
        "model.compile(loss='categorical_crossentropy', optimizer='adam', metrics=['accuracy'])"
      ],
      "metadata": {
        "id": "goGUh2MR-ZFO"
      },
      "execution_count": 22,
      "outputs": []
    },
    {
      "cell_type": "code",
      "source": [
        "  # Train the model\n",
        "model.fit(X, y, epochs=30, verbose=1)"
      ],
      "metadata": {
        "colab": {
          "base_uri": "https://localhost:8080/"
        },
        "id": "bi-mmH0V-puz",
        "outputId": "ea262def-198b-4893-c8ef-06e1b33f38f0"
      },
      "execution_count": 23,
      "outputs": [
        {
          "output_type": "stream",
          "name": "stdout",
          "text": [
            "Epoch 1/30\n",
            "2591/2591 [==============================] - 58s 21ms/step - loss: 7.0211 - accuracy: 0.0557\n",
            "Epoch 2/30\n",
            "2591/2591 [==============================] - 35s 14ms/step - loss: 6.2187 - accuracy: 0.1059\n",
            "Epoch 3/30\n",
            "2591/2591 [==============================] - 34s 13ms/step - loss: 5.6929 - accuracy: 0.1384\n",
            "Epoch 4/30\n",
            "2591/2591 [==============================] - 35s 13ms/step - loss: 5.2316 - accuracy: 0.1620\n",
            "Epoch 5/30\n",
            "2591/2591 [==============================] - 35s 13ms/step - loss: 4.7923 - accuracy: 0.1849\n",
            "Epoch 6/30\n",
            "2591/2591 [==============================] - 33s 13ms/step - loss: 4.3688 - accuracy: 0.2157\n",
            "Epoch 7/30\n",
            "2591/2591 [==============================] - 34s 13ms/step - loss: 3.9724 - accuracy: 0.2582\n",
            "Epoch 8/30\n",
            "2591/2591 [==============================] - 34s 13ms/step - loss: 3.6005 - accuracy: 0.3067\n",
            "Epoch 9/30\n",
            "2591/2591 [==============================] - 34s 13ms/step - loss: 3.2658 - accuracy: 0.3559\n",
            "Epoch 10/30\n",
            "2591/2591 [==============================] - 34s 13ms/step - loss: 2.9664 - accuracy: 0.4038\n",
            "Epoch 11/30\n",
            "2591/2591 [==============================] - 34s 13ms/step - loss: 2.6996 - accuracy: 0.4498\n",
            "Epoch 12/30\n",
            "2591/2591 [==============================] - 34s 13ms/step - loss: 2.4654 - accuracy: 0.4915\n",
            "Epoch 13/30\n",
            "2591/2591 [==============================] - 36s 14ms/step - loss: 2.2522 - accuracy: 0.5313\n",
            "Epoch 14/30\n",
            "2591/2591 [==============================] - 35s 13ms/step - loss: 2.0651 - accuracy: 0.5690\n",
            "Epoch 15/30\n",
            "2591/2591 [==============================] - 35s 13ms/step - loss: 1.8950 - accuracy: 0.6030\n",
            "Epoch 16/30\n",
            "2591/2591 [==============================] - 38s 15ms/step - loss: 1.7414 - accuracy: 0.6325\n",
            "Epoch 17/30\n",
            "2591/2591 [==============================] - 39s 15ms/step - loss: 1.6047 - accuracy: 0.6615\n",
            "Epoch 18/30\n",
            "2591/2591 [==============================] - 34s 13ms/step - loss: 1.4804 - accuracy: 0.6872\n",
            "Epoch 19/30\n",
            "2591/2591 [==============================] - 34s 13ms/step - loss: 1.3725 - accuracy: 0.7100\n",
            "Epoch 20/30\n",
            "2591/2591 [==============================] - 34s 13ms/step - loss: 1.2726 - accuracy: 0.7302\n",
            "Epoch 21/30\n",
            "2591/2591 [==============================] - 34s 13ms/step - loss: 1.1846 - accuracy: 0.7490\n",
            "Epoch 22/30\n",
            "2591/2591 [==============================] - 34s 13ms/step - loss: 1.1037 - accuracy: 0.7666\n",
            "Epoch 23/30\n",
            "2591/2591 [==============================] - 33s 13ms/step - loss: 1.0310 - accuracy: 0.7816\n",
            "Epoch 24/30\n",
            "2591/2591 [==============================] - 34s 13ms/step - loss: 0.9676 - accuracy: 0.7947\n",
            "Epoch 25/30\n",
            "2591/2591 [==============================] - 33s 13ms/step - loss: 0.9073 - accuracy: 0.8080\n",
            "Epoch 26/30\n",
            "2591/2591 [==============================] - 33s 13ms/step - loss: 0.8549 - accuracy: 0.8187\n",
            "Epoch 27/30\n",
            "2591/2591 [==============================] - 35s 13ms/step - loss: 0.8066 - accuracy: 0.8306\n",
            "Epoch 28/30\n",
            "2591/2591 [==============================] - 34s 13ms/step - loss: 0.7643 - accuracy: 0.8397\n",
            "Epoch 29/30\n",
            "2591/2591 [==============================] - 33s 13ms/step - loss: 0.7266 - accuracy: 0.8454\n",
            "Epoch 30/30\n",
            "2591/2591 [==============================] - 33s 13ms/step - loss: 0.6934 - accuracy: 0.8535\n"
          ]
        },
        {
          "output_type": "execute_result",
          "data": {
            "text/plain": [
              "<keras.src.callbacks.History at 0x78e1904d7b50>"
            ]
          },
          "metadata": {},
          "execution_count": 23
        }
      ]
    },
    {
      "cell_type": "code",
      "source": [
        "model"
      ],
      "metadata": {
        "colab": {
          "base_uri": "https://localhost:8080/"
        },
        "id": "rS2MYAjy-lOT",
        "outputId": "499d09a5-fd8c-4439-f7af-c3cb19fc7cae"
      },
      "execution_count": 24,
      "outputs": [
        {
          "output_type": "execute_result",
          "data": {
            "text/plain": [
              "<keras.src.engine.sequential.Sequential at 0x78e275d13c10>"
            ]
          },
          "metadata": {},
          "execution_count": 24
        }
      ]
    },
    {
      "cell_type": "code",
      "source": [
        "# Generate a new joke based on a seed text\n",
        "import numpy as np\n",
        "def generate_joke(seed_text, next_words, model, max_sequence_length):\n",
        "    for _ in range(next_words):\n",
        "        token_list = tokenizer.texts_to_sequences([seed_text])[0]\n",
        "        token_list = pad_sequences([token_list], maxlen=max_sequence_length-1, padding='pre')\n",
        "        predicted = np.argmax(model.predict(token_list), axis=-1)\n",
        "        output_word = \"\"\n",
        "        for word, index in tokenizer.word_index.items():\n",
        "            if index == predicted:\n",
        "                output_word = word\n",
        "                break\n",
        "        seed_text += \" \" + output_word\n",
        "    return seed_text\n",
        "\n",
        "# Seed text to start the joke\n",
        "seed_text = \"Why did the chicken cross the road\"\n",
        "\n",
        "# Number of words to generate in the joke\n",
        "next_words = 10\n",
        "\n",
        "# Generate and print the new joke\n",
        "generated_joke = generate_joke(seed_text, next_words, model, max_sequence_length)\n",
        "print(\"Generated Joke:\", generated_joke)"
      ],
      "metadata": {
        "colab": {
          "base_uri": "https://localhost:8080/"
        },
        "id": "fTRYZUj-GKG2",
        "outputId": "7dd3a25d-f64a-4541-875b-f5ae3f36544a"
      },
      "execution_count": 32,
      "outputs": [
        {
          "output_type": "stream",
          "name": "stdout",
          "text": [
            "1/1 [==============================] - 0s 18ms/step\n",
            "1/1 [==============================] - 0s 18ms/step\n",
            "1/1 [==============================] - 0s 19ms/step\n",
            "1/1 [==============================] - 0s 18ms/step\n",
            "1/1 [==============================] - 0s 19ms/step\n",
            "1/1 [==============================] - 0s 17ms/step\n",
            "1/1 [==============================] - 0s 18ms/step\n",
            "1/1 [==============================] - 0s 18ms/step\n",
            "1/1 [==============================] - 0s 18ms/step\n",
            "1/1 [==============================] - 0s 19ms/step\n",
            "Generated Joke: Why did the chicken cross the road i don't fucking know chickens don't even know what roads\n"
          ]
        }
      ]
    }
  ]
}